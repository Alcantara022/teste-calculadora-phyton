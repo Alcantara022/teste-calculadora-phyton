{
  "nbformat": 4,
  "nbformat_minor": 0,
  "metadata": {
    "colab": {
      "provenance": []
    },
    "kernelspec": {
      "name": "python3",
      "display_name": "Python 3"
    },
    "language_info": {
      "name": "python"
    }
  },
  "cells": [
    {
      "cell_type": "code",
      "source": [
        " print(\"gostaria de iniciar a calculadora?\\n\")\n",
        " input(\"digite 1 para iniciar.\")\n",
        " while True:\n",
        "    num1 = float(input(\"\\nDigite o primeiro número: \"))\n",
        "    num2 = float(input(\"Digite o segundo número: \"))\n",
        "\n",
        "    print(\"\\nEscolha uma opção de 1 a 7:\")\n",
        "    print(\"1 - Soma\")\n",
        "    print(\"2 - Subtração\")\n",
        "    print(\"3 - Multiplicação\")\n",
        "    print(\"4 - Divisão\")\n",
        "    print(\"5 - Resto da divisão\")\n",
        "    print(\"6 - Potenciação\")\n",
        "    print(\"7 - Sair\")\n",
        "\n",
        "    opcao = input(\"Digite o número da operação desejada: \")\n",
        "\n",
        "    if opcao == \"1\":\n",
        "        print(\"Resultado da Soma:\", num1 + num2)\n",
        "    elif opcao == \"2\":\n",
        "        print(\"Resultado da Subtração:\", num1 - num2)\n",
        "    elif opcao == \"3\":\n",
        "        print(\"Resultado da Multiplicação:\", num1 * num2)\n",
        "    elif opcao == \"4\":\n",
        "        if num2 != 0:\n",
        "            print(\"Resultado da Divisão:\", num1 / num2)\n",
        "        else:\n",
        "            print(\"Erro! Não é possível dividir por zero.\")\n",
        "    elif opcao == \"5\":\n",
        "        if num2 != 0:\n",
        "            print(\"Resto da divisão:\", num1 % num2)\n",
        "        else:\n",
        "            print(\"Erro! Não é possível calcular o resto com divisor zero.\")\n",
        "    elif opcao == \"6\":\n",
        "        print(\"Resultado da Potenciação:\", num1 ** num2)\n",
        "    elif opcao == \"7\":\n",
        "        print(\"Saindo do programa...\")\n",
        "        break\n",
        "    else:\n",
        "        print(\"Opção inválida! Escolha um número de 1 a 7.\")"
      
    
          
